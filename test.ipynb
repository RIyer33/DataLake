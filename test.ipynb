{
 "cells": [
  {
   "cell_type": "markdown",
   "metadata": {
    "editable": true
   },
   "source": [
    "Testing the outputs in S3 bucket for the Project Data Lake\n"
   ]
  },
  {
   "cell_type": "markdown",
   "metadata": {
    "editable": true
   },
   "source": [
    "Preliminary imports"
   ]
  },
  {
   "cell_type": "code",
   "execution_count": 1,
   "metadata": {
    "editable": true
   },
   "outputs": [],
   "source": [
    "from pyspark.sql import SparkSession\n",
    "from pyspark.sql import SQLContext\n",
    "from pyspark.sql import types \n",
    "from datetime import datetime\n",
    "from pyspark.sql.functions import from_unixtime\n",
    "from pyspark.sql.functions import col, udf\n",
    "from pyspark.sql.functions import year, month, dayofmonth, hour, weekofyear, dayofweek, date_format, monotonically_increasing_id\n",
    "from pyspark.sql.types import StructType, StructField, DoubleType, StringType, IntegerType, TimestampType, DateType\n",
    "import os\n",
    "import configparser"
   ]
  },
  {
   "cell_type": "markdown",
   "metadata": {
    "editable": true
   },
   "source": [
    "Read Config"
   ]
  },
  {
   "cell_type": "code",
   "execution_count": 2,
   "metadata": {
    "editable": true
   },
   "outputs": [],
   "source": [
    "config = configparser.ConfigParser()\n",
    "config.read('dl.cfg')\n",
    "\n",
    "os.environ['AWS_ACCESS_KEY_ID']=config.get('AWS','AWS_ACCESS_KEY_ID')\n",
    "os.environ['AWS_SECRET_ACCESS_KEY']=config.get('AWS','AWS_SECRET_ACCESS_KEY')\n"
   ]
  },
  {
   "cell_type": "markdown",
   "metadata": {
    "editable": true
   },
   "source": [
    "Create Spark Session"
   ]
  },
  {
   "cell_type": "code",
   "execution_count": 3,
   "metadata": {
    "editable": true
   },
   "outputs": [],
   "source": [
    "spark = SparkSession \\\n",
    "        .builder \\\n",
    "        .config(\"spark.jars.packages\", \"org.apache.hadoop:hadoop-aws:2.7.5\") \\\n",
    "        .getOrCreate()"
   ]
  },
  {
   "cell_type": "markdown",
   "metadata": {
    "editable": true
   },
   "source": [
    "Query Songs Parquet File from S3 bucket"
   ]
  },
  {
   "cell_type": "code",
   "execution_count": 4,
   "metadata": {
    "editable": true
   },
   "outputs": [],
   "source": [
    "#SOZCTXZ12AB0182364\n",
    "output_data = \"s3a://ri-datalake-project-s3/\"\n",
    "song_df = spark.read.parquet(os.path.join(output_data,'songs/'))"
   ]
  },
  {
   "cell_type": "markdown",
   "metadata": {
    "editable": true
   },
   "source": [
    "Using Spark SQL to show Songs table read from parquet files"
   ]
  },
  {
   "cell_type": "code",
   "execution_count": 5,
   "metadata": {
    "editable": true
   },
   "outputs": [
    {
     "name": "stdout",
     "output_type": "stream",
     "text": [
      "+------------------+--------------------+---------+----+------------------+\n",
      "|           song_id|               title| duration|year|         artist_id|\n",
      "+------------------+--------------------+---------+----+------------------+\n",
      "|SOKTJDS12AF72A25E5|Drown In My Own T...|  192.522|   0|ARA23XO1187B9AF18F|\n",
      "|SOEKAZG12AB018837E|I'll Slap Your Fa...|129.85424|2001|ARSVTNL1187B992A91|\n",
      "|SOAFBCP12A8C13CC7D|King Of Scurf (20...|301.40036|1972|ARTC1LV1187B9A4858|\n",
      "|SORRNOC12AB017F52B|The Last Beat Of ...|337.81506|2004|ARSZ7L31187FB4E610|\n",
      "|SOQPWCR12A6D4FB2A3|A Poor Recipe For...|118.07302|2005|AR73AIO1187B9AD57B|\n",
      "|SODZYPO12A8C13A91E|Burn My Body (Alb...|177.99791|   0|AR1C2IX1187B99BF74|\n",
      "|SOBRKGM12A8C139EF6|Welcome to the Pl...|821.05424|1985|ARXQBR11187B98A2CC|\n",
      "|SOERIDA12A6D4F8506|I Want You (Album...|192.28689|2006|ARBZIN01187FB362CC|\n",
      "|SOAPERH12A58A787DC|The One And Only ...|230.42567|   0|ARZ5H0P1187B98A1DD|\n",
      "|SOSMJFC12A8C13DE0C|Is That All There...|343.87546|   0|AR1KTV21187B9ACD72|\n",
      "|SONRWUU12AF72A4283|  Into The Nightlife|240.63955|2008|ARGE7G11187FB37E05|\n",
      "|SOOVHYF12A8C134892|     I'll Be Waiting|304.56118|1989|ARCLYBR1187FB53913|\n",
      "|SOXZYWX12A6310ED0C|     It's About Time| 246.9873|   0|ARC1IHZ1187FB4E920|\n",
      "|SOFSOCN12A8C143F5D|      Face the Ashes|209.60608|2007|ARXR32B1187FB57099|\n",
      "|SOHKNRJ12A6701D1F8|        Drop of Rain|189.57016|   0|AR10USD1187B99F3F1|\n",
      "|SOFRDWL12A58A7CEF7|        Hit Da Scene|252.94322|   0|AR9Q9YC1187FB5609B|\n",
      "|SOIGHOD12A8C13B5A1|        Indian Angel|171.57179|2004|ARY589G1187B9A9F4E|\n",
      "|SOIGICF12A8C141BC5|        Game & Watch|580.54485|2004|AREWD471187FB49873|\n",
      "|SONQPZK12AB0182D84|         Double Wide|160.20853|   0|ARKYKXP11F50C47A6A|\n",
      "|SOHOZBI12A8C132E3C|         Smash It Up|195.39546|2000|AR0MWD61187B9B2B12|\n",
      "+------------------+--------------------+---------+----+------------------+\n",
      "only showing top 20 rows\n",
      "\n"
     ]
    }
   ],
   "source": [
    "song_df.createOrReplaceTempView(\"SongTable\")\n",
    "songSQL = spark.sql(\"select * from SongTable\")\n",
    "songSQL.show()"
   ]
  },
  {
   "cell_type": "markdown",
   "metadata": {
    "editable": true
   },
   "source": [
    "Query artists parquet files from S3 bucket"
   ]
  },
  {
   "cell_type": "code",
   "execution_count": 6,
   "metadata": {
    "editable": true
   },
   "outputs": [],
   "source": [
    "output_data = \"s3a://ri-datalake-project-s3/\"\n",
    "artist_df = spark.read.parquet(os.path.join(output_data,'artists/'))"
   ]
  },
  {
   "cell_type": "markdown",
   "metadata": {
    "editable": true
   },
   "source": [
    "using spark sql to show artists table read from parquet files"
   ]
  },
  {
   "cell_type": "code",
   "execution_count": 7,
   "metadata": {
    "editable": true
   },
   "outputs": [
    {
     "name": "stdout",
     "output_type": "stream",
     "text": [
      "+------------------+--------------------+--------------------+--------+----------+\n",
      "|         artist_id|                name|            location|latitude| longitude|\n",
      "+------------------+--------------------+--------------------+--------+----------+\n",
      "|ARTC1LV1187B9A4858|  The Bonzo Dog Band|Goldsmith's Colle...| 51.4536|  -0.01802|\n",
      "|ARA23XO1187B9AF18F|     The Smithereens|Carteret, New Jersey|40.57885| -74.21956|\n",
      "|AR73AIO1187B9AD57B|   Western Addiction|   San Francisco, CA|37.77916|-122.42005|\n",
      "|ARSVTNL1187B992A91|       Jonathan King|     London, England|51.50632|  -0.12714|\n",
      "|AR5LMPY1187FB573FE|   Chaka Khan_ Rufus|         Chicago, IL|41.88415| -87.63241|\n",
      "|AR10USD1187B99F3F1|Tweeterfriendly M...|Burlington, Ontar...|    null|      null|\n",
      "|ARZ5H0P1187B98A1DD|          Snoop Dogg|      Long Beach, CA|33.76672| -118.1924|\n",
      "|AR1KTV21187B9ACD72|            Cristina|     California - LA|34.05349|-118.24532|\n",
      "|ARXQBR11187B98A2CC|Frankie Goes To H...|  Liverpool, England|    null|      null|\n",
      "|ARY589G1187B9A9F4E|         Talkdemonic|        Portland, OR|45.51179|-122.67563|\n",
      "|ARMJAGH1187FB546F3|        The Box Tops|         Memphis, TN|35.14968| -90.04892|\n",
      "|ARCLYBR1187FB53913|          Neal Schon|       San Mateo, CA|37.54703|-122.31483|\n",
      "|ARSZ7L31187FB4E610|           Devotchka|          Denver, CO|39.74001|-104.99226|\n",
      "|ARBZIN01187FB362CC|        Paris Hilton|                  27| 1.32026| 103.78871|\n",
      "|AR0MWD61187B9B2B12|International Noi...|                    |    null|      null|\n",
      "|AR9Q9YC1187FB5609B|    Quest_ Pup_ Kevo|          New Jersey|    null|      null|\n",
      "|ARGE7G11187FB37E05|        Cyndi Lauper|        Brooklyn, NY|    null|      null|\n",
      "|ARKYKXP11F50C47A6A|    The Supersuckers|                    |    null|      null|\n",
      "|AR1C2IX1187B99BF74|     Broken Spindles|                    |    null|      null|\n",
      "|ARC1IHZ1187FB4E920|        Jamie Cullum|                    |    null|      null|\n",
      "+------------------+--------------------+--------------------+--------+----------+\n",
      "only showing top 20 rows\n",
      "\n"
     ]
    }
   ],
   "source": [
    "artist_df.createOrReplaceTempView(\"ArtistTable\")\n",
    "artistSQL = spark.sql(\"select * from ArtistTable\")\n",
    "artistSQL.show()"
   ]
  },
  {
   "cell_type": "markdown",
   "metadata": {
    "editable": true
   },
   "source": [
    "Query users parquet file from s3 bucket "
   ]
  },
  {
   "cell_type": "code",
   "execution_count": 8,
   "metadata": {
    "editable": true
   },
   "outputs": [],
   "source": [
    "output_data = \"s3a://ri-datalake-project-s3/\"\n",
    "user_df = spark.read.parquet(os.path.join(output_data,'users/'))"
   ]
  },
  {
   "cell_type": "code",
   "execution_count": 9,
   "metadata": {
    "editable": true
   },
   "outputs": [
    {
     "name": "stdout",
     "output_type": "stream",
     "text": [
      "+-------+----------+---------+------+-----+\n",
      "|user_id|first_name|last_name|gender|level|\n",
      "+-------+----------+---------+------+-----+\n",
      "|     88|  Mohammad|Rodriguez|     M| free|\n",
      "|     75|    Joseph|Gutierrez|     M| free|\n",
      "|     69|  Anabelle|  Simpson|     F| free|\n",
      "|     29|Jacqueline|    Lynch|     F| free|\n",
      "|     68|    Jordan|Rodriguez|     F| free|\n",
      "|      2|   Jizelle| Benjamin|     F| free|\n",
      "|     61|    Samuel| Gonzalez|     M| free|\n",
      "|     14|  Theodore|   Harris|     M| free|\n",
      "|     40|    Tucker| Garrison|     M| free|\n",
      "|     52|  Theodore|    Smith|     M| free|\n",
      "|     17|  Makinley|    Jones|     F| free|\n",
      "|    100|     Adler|  Barrera|     M| free|\n",
      "|     12|    Austin|  Rosales|     M| free|\n",
      "|     53|   Celeste| Williams|     F| free|\n",
      "|     56|    Cienna|  Freeman|     F| free|\n",
      "|     88|  Mohammad|Rodriguez|     M| paid|\n",
      "|     73|     Jacob|    Klein|     M| paid|\n",
      "|     38|    Gianna|    Jones|     F| free|\n",
      "|     36|   Matthew|    Jones|     M| free|\n",
      "|     77| Magdalene|   Herman|     F| free|\n",
      "+-------+----------+---------+------+-----+\n",
      "only showing top 20 rows\n",
      "\n"
     ]
    }
   ],
   "source": [
    "user_df.createOrReplaceTempView(\"UsersTable\")\n",
    "userSQL = spark.sql(\"select * from UsersTable\")\n",
    "userSQL.show()"
   ]
  },
  {
   "cell_type": "markdown",
   "metadata": {
    "editable": true
   },
   "source": [
    "query time parquet file"
   ]
  },
  {
   "cell_type": "code",
   "execution_count": 10,
   "metadata": {
    "editable": true
   },
   "outputs": [],
   "source": [
    "#SOZCTXZ12AB0182364\n",
    "output_data = \"s3a://ri-datalake-project-s3/\"\n",
    "time_df = spark.read.parquet(os.path.join(output_data,'time/'))"
   ]
  },
  {
   "cell_type": "code",
   "execution_count": 12,
   "metadata": {
    "editable": true
   },
   "outputs": [
    {
     "name": "stdout",
     "output_type": "stream",
     "text": [
      "+----------+----+---+----+---+----+-------+----+-----+\n",
      "|start_time|hour|day|week|day|week|weekday|year|month|\n",
      "+----------+----+---+----+---+----+-------+----+-----+\n",
      "|2018-11-16|   0| 16|  46| 16|  46|      6|2018|   11|\n",
      "|2018-11-26|   0| 26|  48| 26|  48|      2|2018|   11|\n",
      "|2018-11-23|   0| 23|  47| 23|  47|      6|2018|   11|\n",
      "|2018-11-07|   0|  7|  45|  7|  45|      4|2018|   11|\n",
      "|2018-11-01|   0|  1|  44|  1|  44|      5|2018|   11|\n",
      "|2018-11-05|   0|  5|  45|  5|  45|      2|2018|   11|\n",
      "|2018-11-02|   0|  2|  44|  2|  44|      6|2018|   11|\n",
      "|2018-11-25|   0| 25|  47| 25|  47|      1|2018|   11|\n",
      "|2018-11-29|   0| 29|  48| 29|  48|      5|2018|   11|\n",
      "|2018-11-17|   0| 17|  46| 17|  46|      7|2018|   11|\n",
      "|2018-11-20|   0| 20|  47| 20|  47|      3|2018|   11|\n",
      "|2018-11-15|   0| 15|  46| 15|  46|      5|2018|   11|\n",
      "|2018-11-18|   0| 18|  46| 18|  46|      1|2018|   11|\n",
      "|2018-11-08|   0|  8|  45|  8|  45|      5|2018|   11|\n",
      "|2018-11-14|   0| 14|  46| 14|  46|      4|2018|   11|\n",
      "|2018-11-13|   0| 13|  46| 13|  46|      3|2018|   11|\n",
      "|2018-11-21|   0| 21|  47| 21|  47|      4|2018|   11|\n",
      "|2018-11-09|   0|  9|  45|  9|  45|      6|2018|   11|\n",
      "|2018-11-11|   0| 11|  45| 11|  45|      1|2018|   11|\n",
      "|2018-11-19|   0| 19|  47| 19|  47|      2|2018|   11|\n",
      "+----------+----+---+----+---+----+-------+----+-----+\n",
      "only showing top 20 rows\n",
      "\n"
     ]
    }
   ],
   "source": [
    "time_df.createOrReplaceTempView(\"TimeTable\")\n",
    "timeSQL = spark.sql(\"select distinct start_time, hour, day ,week, day, week, weekday, year, month from TimeTable\")\n",
    "timeSQL.show()"
   ]
  },
  {
   "cell_type": "markdown",
   "metadata": {
    "editable": true
   },
   "source": [
    "query songplay parquet file"
   ]
  },
  {
   "cell_type": "code",
   "execution_count": 4,
   "metadata": {
    "editable": true
   },
   "outputs": [],
   "source": [
    "output_data = \"s3a://ri-datalake-project-s3/\"\n",
    "songplay_df = spark.read.parquet(os.path.join(output_data,'songplay/'))"
   ]
  },
  {
   "cell_type": "code",
   "execution_count": 5,
   "metadata": {
    "editable": true
   },
   "outputs": [
    {
     "name": "stdout",
     "output_type": "stream",
     "text": [
      "+----------+------+-----+-------+---------+---------+--------------------+--------------------+------------+----+-----+\n",
      "|start_time|userId|level|song_id|artist_id|sessionId|            location|           userAgent|song_play_id|year|month|\n",
      "+----------+------+-----+-------+---------+---------+--------------------+--------------------+------------+----+-----+\n",
      "|2018-11-15|    97| paid|   null|     null|      605|Lansing-East Lans...|\"Mozilla/5.0 (X11...| 94489280512|2018|   11|\n",
      "|2018-11-30|    49| paid|   null|     null|     1096|San Francisco-Oak...|Mozilla/5.0 (Wind...| 94489280513|2018|   11|\n",
      "|2018-11-15|    80| paid|   null|     null|      602|Portland-South Po...|\"Mozilla/5.0 (Mac...| 94489280514|2018|   11|\n",
      "|2018-11-28|    39| free|   null|     null|      451|San Francisco-Oak...|\"Mozilla/5.0 (Mac...| 94489280515|2018|   11|\n",
      "|2018-11-19|    24| paid|   null|     null|      672|Lake Havasu City-...|\"Mozilla/5.0 (Win...| 94489280516|2018|   11|\n",
      "|2018-11-27|    88| paid|   null|     null|      969|Sacramento--Rosev...|\"Mozilla/5.0 (Mac...| 94489280517|2018|   11|\n",
      "|2018-11-14|    80| paid|   null|     null|      548|Portland-South Po...|\"Mozilla/5.0 (Mac...| 94489280518|2018|   11|\n",
      "|2018-11-14|    80| paid|   null|     null|      574|Portland-South Po...|\"Mozilla/5.0 (Mac...| 94489280519|2018|   11|\n",
      "|2018-11-13|    29| paid|   null|     null|      486|Atlanta-Sandy Spr...|\"Mozilla/5.0 (Mac...| 94489280520|2018|   11|\n",
      "|2018-11-16|    36| paid|   null|     null|      461|Janesville-Beloit...|\"Mozilla/5.0 (Win...| 94489280521|2018|   11|\n",
      "|2018-11-11|    44| paid|   null|     null|      448|Waterloo-Cedar Fa...|Mozilla/5.0 (Maci...| 94489280522|2018|   11|\n",
      "|2018-11-27|    49| paid|   null|     null|      982|San Francisco-Oak...|Mozilla/5.0 (Wind...| 94489280523|2018|   11|\n",
      "|2018-11-03|    95| paid|   null|     null|      152|   Winston-Salem, NC|\"Mozilla/5.0 (iPh...| 94489280524|2018|   11|\n",
      "|2018-11-23|    88| paid|   null|     null|      812|Sacramento--Rosev...|\"Mozilla/5.0 (Mac...| 94489280525|2018|   11|\n",
      "|2018-11-30|    73| paid|   null|     null|     1049|Tampa-St. Petersb...|\"Mozilla/5.0 (Mac...| 94489280526|2018|   11|\n",
      "|2018-11-12|    80| paid|   null|     null|      481|Portland-South Po...|\"Mozilla/5.0 (Mac...| 94489280527|2018|   11|\n",
      "|2018-11-18|    29| paid|   null|     null|      589|Atlanta-Sandy Spr...|\"Mozilla/5.0 (Mac...| 94489280528|2018|   11|\n",
      "|2018-11-04|    25| paid|   null|     null|      128|    Marinette, WI-MI|\"Mozilla/5.0 (Win...| 94489280529|2018|   11|\n",
      "|2018-11-02|    44| paid|   null|     null|      157|Waterloo-Cedar Fa...|Mozilla/5.0 (Maci...| 94489280530|2018|   11|\n",
      "|2018-11-22|    97| paid|   null|     null|      828|Lansing-East Lans...|\"Mozilla/5.0 (X11...| 94489280531|2018|   11|\n",
      "+----------+------+-----+-------+---------+---------+--------------------+--------------------+------------+----+-----+\n",
      "only showing top 20 rows\n",
      "\n"
     ]
    }
   ],
   "source": [
    "songplay_df.createOrReplaceTempView(\"SongPlayTable\")\n",
    "songplaySQL = spark.sql(\"select * from SongPlayTable\")\n",
    "songplaySQL.show()"
   ]
  },
  {
   "cell_type": "code",
   "execution_count": null,
   "metadata": {
    "editable": true
   },
   "outputs": [],
   "source": []
  }
 ],
 "metadata": {
  "kernelspec": {
   "display_name": "Python 3",
   "language": "python",
   "name": "python3"
  },
  "language_info": {
   "codemirror_mode": {
    "name": "ipython",
    "version": 3
   },
   "file_extension": ".py",
   "mimetype": "text/x-python",
   "name": "python",
   "nbconvert_exporter": "python",
   "pygments_lexer": "ipython3",
   "version": "3.6.3"
  }
 },
 "nbformat": 4,
 "nbformat_minor": 4
}
