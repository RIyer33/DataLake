{
 "cells": [
  {
   "cell_type": "code",
   "execution_count": 1,
   "metadata": {
    "editable": true
   },
   "outputs": [],
   "source": [
    "from pyspark.sql import SparkSession\n",
    "from pyspark.sql import SQLContext\n",
    "from pyspark.sql import types \n",
    "from datetime import datetime\n",
    "from pyspark.sql.functions import from_unixtime\n",
    "from pyspark.sql.functions import col, udf\n",
    "from pyspark.sql.functions import year, month, dayofmonth, hour, weekofyear, dayofweek, date_format, monotonically_increasing_id\n",
    "from pyspark.sql.types import StructType, StructField, DoubleType, StringType, IntegerType, TimestampType, DateType\n",
    "import os\n",
    "import configparser\n"
   ]
  },
  {
   "cell_type": "code",
   "execution_count": 2,
   "metadata": {
    "editable": true
   },
   "outputs": [],
   "source": [
    "config = configparser.ConfigParser()\n",
    "config.read('dl.cfg')\n",
    "\n",
    "os.environ['AWS_ACCESS_KEY_ID']=config.get('AWS','AWS_ACCESS_KEY_ID')\n",
    "os.environ['AWS_SECRET_ACCESS_KEY']=config.get('AWS','AWS_SECRET_ACCESS_KEY')\n"
   ]
  },
  {
   "cell_type": "code",
   "execution_count": 3,
   "metadata": {
    "editable": true
   },
   "outputs": [],
   "source": [
    "spark = SparkSession \\\n",
    "        .builder \\\n",
    "        .config(\"spark.jars.packages\", \"org.apache.hadoop:hadoop-aws:2.7.5\") \\\n",
    "        .getOrCreate()"
   ]
  },
  {
   "cell_type": "code",
   "execution_count": 4,
   "metadata": {
    "editable": true
   },
   "outputs": [],
   "source": [
    "#SOZCTXZ12AB0182364\n",
    "output_data = \"s3a://ri-datalake-project-s3/\"\n",
    "song_df = spark.read.parquet(os.path.join(output_data,'songs/'))"
   ]
  },
  {
   "cell_type": "code",
   "execution_count": 5,
   "metadata": {
    "editable": true
   },
   "outputs": [
    {
     "name": "stdout",
     "output_type": "stream",
     "text": [
      "+--------------------+---------+----+------------------+\n",
      "|               title| duration|year|         artist_id|\n",
      "+--------------------+---------+----+------------------+\n",
      "|Drown In My Own T...|  192.522|   0|ARA23XO1187B9AF18F|\n",
      "|I'll Slap Your Fa...|129.85424|2001|ARSVTNL1187B992A91|\n",
      "|King Of Scurf (20...|301.40036|1972|ARTC1LV1187B9A4858|\n",
      "|The Last Beat Of ...|337.81506|2004|ARSZ7L31187FB4E610|\n",
      "|A Poor Recipe For...|118.07302|2005|AR73AIO1187B9AD57B|\n",
      "|Burn My Body (Alb...|177.99791|   0|AR1C2IX1187B99BF74|\n",
      "|Welcome to the Pl...|821.05424|1985|ARXQBR11187B98A2CC|\n",
      "|I Want You (Album...|192.28689|2006|ARBZIN01187FB362CC|\n",
      "|The One And Only ...|230.42567|   0|ARZ5H0P1187B98A1DD|\n",
      "|Is That All There...|343.87546|   0|AR1KTV21187B9ACD72|\n",
      "|  Into The Nightlife|240.63955|2008|ARGE7G11187FB37E05|\n",
      "|     I'll Be Waiting|304.56118|1989|ARCLYBR1187FB53913|\n",
      "|     It's About Time| 246.9873|   0|ARC1IHZ1187FB4E920|\n",
      "|      Face the Ashes|209.60608|2007|ARXR32B1187FB57099|\n",
      "|        Drop of Rain|189.57016|   0|AR10USD1187B99F3F1|\n",
      "|        Hit Da Scene|252.94322|   0|AR9Q9YC1187FB5609B|\n",
      "|        Indian Angel|171.57179|2004|ARY589G1187B9A9F4E|\n",
      "|        Game & Watch|580.54485|2004|AREWD471187FB49873|\n",
      "|         Double Wide|160.20853|   0|ARKYKXP11F50C47A6A|\n",
      "|         Smash It Up|195.39546|2000|AR0MWD61187B9B2B12|\n",
      "+--------------------+---------+----+------------------+\n",
      "only showing top 20 rows\n",
      "\n"
     ]
    }
   ],
   "source": [
    "song_df.createOrReplaceTempView(\"SongTable\")\n",
    "songSQL = spark.sql(\"select * from SongTable\")\n",
    "songSQL.show()"
   ]
  },
  {
   "cell_type": "code",
   "execution_count": null,
   "metadata": {
    "editable": true
   },
   "outputs": [],
   "source": [
    "output_data = \"s3a://ri-datalake-project-s3/\"\n",
    "artist_df = spark.read.parquet(os.path.join(output_data,'artists/'))"
   ]
  },
  {
   "cell_type": "code",
   "execution_count": null,
   "metadata": {
    "editable": true
   },
   "outputs": [],
   "source": [
    "artist_df.createOrReplaceTempView(\"ArtistTable\")\n",
    "artistSQL = spark.sql(\"select * from ArtistTable\")\n",
    "artistSQL.show()"
   ]
  },
  {
   "cell_type": "code",
   "execution_count": null,
   "metadata": {
    "editable": true
   },
   "outputs": [],
   "source": [
    "output_data = \"s3a://ri-datalake-project-s3/\"\n",
    "user_df = spark.read.parquet(os.path.join(output_data,'users/'))"
   ]
  },
  {
   "cell_type": "code",
   "execution_count": null,
   "metadata": {
    "editable": true
   },
   "outputs": [],
   "source": [
    "user_df.createOrReplaceTempView(\"UsersTable\")\n",
    "userSQL = spark.sql(\"select * from UsersTable\")\n",
    "userSQL.show()"
   ]
  },
  {
   "cell_type": "code",
   "execution_count": 4,
   "metadata": {
    "editable": true
   },
   "outputs": [],
   "source": [
    "#SOZCTXZ12AB0182364\n",
    "output_data = \"s3a://ri-datalake-project-s3/\"\n",
    "time_df = spark.read.parquet(os.path.join(output_data,'time/'))"
   ]
  },
  {
   "cell_type": "code",
   "execution_count": null,
   "metadata": {
    "editable": true
   },
   "outputs": [],
   "source": [
    "time_df.createOrReplaceTempView(\"TimeTable\")\n",
    "timeSQL = spark.sql(\"select * from TimeTable\")\n",
    "timeSQL.show()"
   ]
  },
  {
   "cell_type": "code",
   "execution_count": null,
   "metadata": {
    "editable": true
   },
   "outputs": [],
   "source": [
    "output_data = \"s3a://ri-datalake-project-s3/\"\n",
    "songplay_df = spark.read.parquet(os.path.join(output_data,'songplay/'))"
   ]
  },
  {
   "cell_type": "code",
   "execution_count": 6,
   "metadata": {
    "editable": true
   },
   "outputs": [
    {
     "name": "stdout",
     "output_type": "stream",
     "text": [
      "+----------+------+-----+-------------+------------------+---------+--------------------+--------------------+------------+----+-----+\n",
      "|start_time|userId|level|      song_id|         artist_id|sessionId|            location|           userAgent|song_play_id|year|month|\n",
      "+----------+------+-----+-------------+------------------+---------+--------------------+--------------------+------------+----+-----+\n",
      "|2018-11-09|    36| paid| 403726925825|AR6892W1187B9AC71B|      392|Janesville-Beloit...|\"Mozilla/5.0 (Win...|635655159822|2018|   11|\n",
      "|2018-11-24|    73| paid| 790273982464|ARFCUN31187B9AD578|      692|Tampa-St. Petersb...|\"Mozilla/5.0 (Mac...|515396075521|2018|   11|\n",
      "|2018-11-26|    92| free| 790273982464|ARFCUN31187B9AD578|      938|       Palestine, TX|Mozilla/5.0 (Maci...|515396075522|2018|   11|\n",
      "|2018-11-05|    73| paid|1194000908288|ARC0IOF1187FB3F6E6|      255|Tampa-St. Petersb...|\"Mozilla/5.0 (Mac...|893353197582|2018|   11|\n",
      "|2018-11-20|    49| paid| 841813590016|ARTDQRC1187FB4EFD4|      758|San Francisco-Oak...|Mozilla/5.0 (Wind...|231928233994|2018|   11|\n",
      "|2018-11-27|    49| paid| 841813590016|ARTDQRC1187FB4EFD4|      987|San Francisco-Oak...|Mozilla/5.0 (Wind...|231928233995|2018|   11|\n",
      "|2018-11-11|    67| free| 841813590016|ARTDQRC1187FB4EFD4|      414|Nashville-Davidso...|\"Mozilla/5.0 (Mac...|231928233996|2018|   11|\n",
      "|2018-11-16|    85| paid|  34359738369|ARNLO5S1187B9B80CC|      436|       Red Bluff, CA|\"Mozilla/5.0 (Mac...|214748364814|2018|   11|\n",
      "|2018-11-21|    15| paid|1348619730945|AR5KOSW1187FB35FF4|      818|Chicago-Napervill...|\"Mozilla/5.0 (X11...|644245094421|2018|   11|\n",
      "|2018-11-09|    80| paid|1589137899521|ARFVYJI1187B9B8E13|      416|Portland-South Po...|\"Mozilla/5.0 (Mac...|481036337173|2018|   11|\n",
      "|2018-11-13|    55| free| 395136991232|AR0L04E1187B9AE90C|      415|Minneapolis-St. P...|\"Mozilla/5.0 (Mac...|274877906947|2018|   11|\n",
      "|2018-11-29|    80| paid| 395136991232|AR0L04E1187B9AE90C|     1065|Portland-South Po...|\"Mozilla/5.0 (Mac...|274877906948|2018|   11|\n",
      "+----------+------+-----+-------------+------------------+---------+--------------------+--------------------+------------+----+-----+\n",
      "\n"
     ]
    }
   ],
   "source": [
    "songplay_df.createOrReplaceTempView(\"SongPlayTable\")\n",
    "songplaySQL = spark.sql(\"select * from SongPlayTable where song_id is not null\")\n",
    "songplaySQL.show()"
   ]
  }
 ],
 "metadata": {
  "kernelspec": {
   "display_name": "Python 3",
   "language": "python",
   "name": "python3"
  },
  "language_info": {
   "codemirror_mode": {
    "name": "ipython",
    "version": 3
   },
   "file_extension": ".py",
   "mimetype": "text/x-python",
   "name": "python",
   "nbconvert_exporter": "python",
   "pygments_lexer": "ipython3",
   "version": "3.6.3"
  }
 },
 "nbformat": 4,
 "nbformat_minor": 4
}
